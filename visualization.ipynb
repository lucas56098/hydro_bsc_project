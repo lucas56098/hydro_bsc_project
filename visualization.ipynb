{
 "cells": [
  {
   "cell_type": "code",
   "execution_count": null,
   "metadata": {},
   "outputs": [],
   "source": [
    "# import packages\n",
    "import pandas as pd\n",
    "import numpy as np\n",
    "import matplotlib.pyplot as plt\n",
    "import matplotlib.colors as mcolors\n",
    "from matplotlib.cm import ScalarMappable\n",
    "from matplotlib.collections import PolyCollection\n",
    "from matplotlib.animation import FuncAnimation"
   ]
  },
  {
   "cell_type": "code",
   "execution_count": null,
   "metadata": {},
   "outputs": [],
   "source": [
    "def process_file(file_name):\n",
    "    df = pd.read_csv(file_name, delimiter=';', header=None)\n",
    "    Q = df.iloc[:, -1].astype(float)\n",
    "    coords = df.iloc[:, :-1]\n",
    "\n",
    "    polygons = []\n",
    "    for index, row in coords.iterrows():\n",
    "        poly = []\n",
    "        for item in row.dropna():\n",
    "            points = item.split(\",\")\n",
    "            points = np.array(points, dtype=float).reshape(2,2)\n",
    "            poly.append(points[0])\n",
    "        poly.append(poly[0])  # Close the polygon\n",
    "        polygons.append(np.array(poly))\n",
    "    \n",
    "    return polygons, Q\n",
    "\n",
    "polygons, Q = process_file('files/mesh1960.csv')\n",
    "\n",
    "# plot mesh with Q\n",
    "fig, ax = plt.subplots(figsize = (12, 10))\n",
    "norm = mcolors.Normalize(vmin=0, vmax=1)\n",
    "collection = PolyCollection(polygons, array=Q, cmap='viridis', norm=norm, edgecolor='face') # edgecolor = 'none' / 'face'\n",
    "ax.add_collection(collection)\n",
    "ax.autoscale_view()\n",
    "cbar = fig.colorbar(collection, ax=ax)\n",
    "cbar.set_label('Q-value')\n",
    "plt.savefig('figures/image.png')\n",
    "plt.show()\n"
   ]
  },
  {
   "cell_type": "code",
   "execution_count": null,
   "metadata": {},
   "outputs": [],
   "source": [
    "# define figure and axes\n",
    "fig, ax = plt.subplots(figsize=(12, 10))\n",
    "norm = mcolors.Normalize(vmin=0, vmax=1)\n",
    "collection = PolyCollection([], array=[], cmap='viridis', norm=norm)\n",
    "collection.set_edgecolor('face') # edgecolor = 'none' / 'face'\n",
    "ax.add_collection(collection)\n",
    "ax.set_xlim(0, 1)\n",
    "ax.set_ylim(0, 1)\n",
    "cbar = fig.colorbar(collection, ax=ax)\n",
    "cbar.set_label('Q-value')\n",
    "\n",
    "# animation update function\n",
    "def update(frame):\n",
    "    file_name = f\"files/mesh{frame}.csv\"\n",
    "    polygons, Q = process_file(file_name)\n",
    "    collection.set_paths(polygons)\n",
    "    collection.set_array(Q)\n",
    "    return collection,\n",
    "\n",
    "# animation\n",
    "frames = range(0, 2000, 40)\n",
    "fps = 30\n",
    "ani = FuncAnimation(fig, update, frames=frames, blit=True, repeat=False)\n",
    "ani.save('figures/animation.gif', fps=fps)\n",
    "plt.show()\n"
   ]
  }
 ],
 "metadata": {
  "kernelspec": {
   "display_name": "Python 3",
   "language": "python",
   "name": "python3"
  },
  "language_info": {
   "codemirror_mode": {
    "name": "ipython",
    "version": 3
   },
   "file_extension": ".py",
   "mimetype": "text/x-python",
   "name": "python",
   "nbconvert_exporter": "python",
   "pygments_lexer": "ipython3",
   "version": "3.12.2"
  }
 },
 "nbformat": 4,
 "nbformat_minor": 2
}
